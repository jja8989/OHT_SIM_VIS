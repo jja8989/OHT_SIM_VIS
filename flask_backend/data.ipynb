{
 "cells": [
  {
   "cell_type": "code",
   "execution_count": 1,
   "id": "87e6dfb6",
   "metadata": {},
   "outputs": [],
   "source": [
    "import json"
   ]
  },
  {
   "cell_type": "code",
   "execution_count": 4,
   "id": "38b9ec5b",
   "metadata": {},
   "outputs": [],
   "source": [
    "with open(\"./fab_oht_layout_updated.json\", \"r\") as f:\n",
    "    layout = json.load(f)\n"
   ]
  },
  {
   "cell_type": "code",
   "execution_count": 6,
   "id": "b7867783",
   "metadata": {},
   "outputs": [],
   "source": [
    "REMOVE_KEYS = {\n",
    "    \"nodes\": [\"zcu_name\", \"zcu_type\"],  # 예: [\"something\"] 넣으면 제거됨\n",
    "    \"rails\": [],\n",
    "    \"ports\": [\"port_type\", \"eqp_name\", \"rail_line\"]\n",
    "}"
   ]
  },
  {
   "cell_type": "code",
   "execution_count": 7,
   "id": "615c8184",
   "metadata": {},
   "outputs": [],
   "source": [
    "for key in [\"nodes\", \"rails\", \"ports\"]:\n",
    "    if key in layout:\n",
    "        new_items = []\n",
    "        for item in layout[key]:\n",
    "            cleaned = {k: v for k, v in item.items() if k not in REMOVE_KEYS[key]}\n",
    "            new_items.append(cleaned)\n",
    "        layout[key] = new_items"
   ]
  },
  {
   "cell_type": "code",
   "execution_count": 9,
   "id": "4dd55c5a",
   "metadata": {},
   "outputs": [],
   "source": [
    "with open('fab_oht_layout_cleaned.json', \"w\") as f:\n",
    "    json.dump(layout, f, indent=4)"
   ]
  },
  {
   "cell_type": "code",
   "execution_count": null,
   "id": "751f53e6",
   "metadata": {},
   "outputs": [],
   "source": []
  }
 ],
 "metadata": {
  "kernelspec": {
   "display_name": "simul",
   "language": "python",
   "name": "python3"
  },
  "language_info": {
   "codemirror_mode": {
    "name": "ipython",
    "version": 3
   },
   "file_extension": ".py",
   "mimetype": "text/x-python",
   "name": "python",
   "nbconvert_exporter": "python",
   "pygments_lexer": "ipython3",
   "version": "3.12.4"
  }
 },
 "nbformat": 4,
 "nbformat_minor": 5
}
