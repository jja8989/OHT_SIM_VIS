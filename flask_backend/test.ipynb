{
 "cells": [
  {
   "cell_type": "code",
   "execution_count": 10,
   "metadata": {},
   "outputs": [
    {
     "name": "stdout",
     "output_type": "stream",
     "text": [
      "Edges in the graph: [(0, 1), (1, 2), (2, 3)]\n"
     ]
    }
   ],
   "source": [
    "import networkit as nk\n",
    "\n",
    "# Create a directed graph with 4 nodes\n",
    "graph = nk.Graph(4, directed=True)\n",
    "\n",
    "# Add edges\n",
    "graph.addEdge(0, 1)\n",
    "graph.addEdge(1, 2)\n",
    "graph.addEdge(2, 3)\n",
    "\n",
    "# Remove an edge from node 1 to node 2\n",
    "graph.hasEdge(1, 2)\n",
    "\n",
    "# Check if the edge was removed by printing the graph's edges\n",
    "print(\"Edges in the graph:\", list(graph.iterEdges()))\n"
   ]
  },
  {
   "cell_type": "code",
   "execution_count": 11,
   "metadata": {},
   "outputs": [
    {
     "data": {
      "text/plain": [
       "True"
      ]
     },
     "execution_count": 11,
     "metadata": {},
     "output_type": "execute_result"
    }
   ],
   "source": [
    "graph.hasEdge(1, 2)"
   ]
  },
  {
   "cell_type": "code",
   "execution_count": null,
   "metadata": {},
   "outputs": [],
   "source": []
  }
 ],
 "metadata": {
  "kernelspec": {
   "display_name": "base",
   "language": "python",
   "name": "python3"
  },
  "language_info": {
   "codemirror_mode": {
    "name": "ipython",
    "version": 3
   },
   "file_extension": ".py",
   "mimetype": "text/x-python",
   "name": "python",
   "nbconvert_exporter": "python",
   "pygments_lexer": "ipython3",
   "version": "3.11.5"
  }
 },
 "nbformat": 4,
 "nbformat_minor": 2
}
