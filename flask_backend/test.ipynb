{
 "cells": [
  {
   "cell_type": "code",
   "execution_count": 3,
   "metadata": {},
   "outputs": [
    {
     "name": "stdout",
     "output_type": "stream",
     "text": [
      "Distance from 0 to 5: 20.0\n",
      "Shortest path from 0 to 5: [0, 2, 5]\n"
     ]
    }
   ],
   "source": [
    "import networkit as nk\n",
    "\n",
    "# 그래프 생성 (노드 수 지정)\n",
    "num_nodes = 6\n",
    "graph = nk.graph.Graph(num_nodes, weighted=True, directed=True)\n",
    "\n",
    "# 엣지 추가 (source, target, weight)\n",
    "edges = [\n",
    "    (0, 1, 10),  # 엣지 0 -> 1, 가중치 10\n",
    "    (1, 2, 10),   # 엣지 1 -> 2, 가중치 2\n",
    "]\n",
    "\n",
    "for u, v, w in edges:\n",
    "    graph.addEdge(u, v, w)\n",
    "\n",
    "# 다익스트라 알고리즘을 사용해 최단 경로 계산\n",
    "source = 0\n",
    "target = 5# 시작 노드\n",
    "dijkstra = nk.distance.Dijkstra(graph, source, storePaths=True, storeNodesSortedByDistance=False, target=5)\n",
    "dijkstra.run()\n",
    "\n",
    "\n",
    "# Get the shortest distance\n",
    "print(f\"Distance from {source} to {target}: {dijkstra.distance(target)}\")\n",
    "\n",
    "# Get the shortest path (node IDs)\n",
    "path = dijkstra.getPath(target)\n",
    "print(f\"Shortest path from {source} to {target}: {path}\")"
   ]
  },
  {
   "cell_type": "code",
   "execution_count": null,
   "metadata": {},
   "outputs": [],
   "source": []
  }
 ],
 "metadata": {
  "kernelspec": {
   "display_name": "base",
   "language": "python",
   "name": "python3"
  },
  "language_info": {
   "codemirror_mode": {
    "name": "ipython",
    "version": 3
   },
   "file_extension": ".py",
   "mimetype": "text/x-python",
   "name": "python",
   "nbconvert_exporter": "python",
   "pygments_lexer": "ipython3",
   "version": "3.11.5"
  }
 },
 "nbformat": 4,
 "nbformat_minor": 2
}
